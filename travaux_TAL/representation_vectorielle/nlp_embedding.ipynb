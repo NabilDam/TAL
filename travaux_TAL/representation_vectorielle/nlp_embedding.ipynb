{
 "cells": [
  {
   "cell_type": "markdown",
   "metadata": {},
   "source": [
    "# NLP 2 : Neural Embeddings, Text Classification, Text Generation\n",
    "\n",
    "\n",
    "To use statistical classifiers with text, it is first necessary to vectorize the text. In the first practical session we explored the **bag of word** model. \n",
    "\n",
    "Modern **state of the art** methods uses  embeddings to vectorize the text before classification in order to avoid feature engineering.\n",
    "\n",
    "## Dataset\n",
    "https://github.com/cedias/practicalNLP/tree/master/dataset\n",
    "\n",
    "## \"Modern\" NLP pipeline\n",
    "\n",
    "By opposition to the **bag of word** model, in the modern NLP pipeline everything is **embeddings**. Instead of encoding a text as a **sparse vector** of length $D$ (size of feature dictionnary) the goal is to encode the text in a meaningful dense vector of a small size $|e| <<< |D|$. \n",
    "\n",
    "\n",
    "The raw classification pipeline is then the following:\n",
    "\n",
    "```\n",
    "raw text ---|embedding table|-->  vectors --|Neural Net|--> class \n",
    "```\n",
    "\n",
    "\n",
    "### Using a  language model:\n",
    "\n",
    "How to tokenize the text and extract a feature dictionnary is still a manual task. To directly have meaningful embeddings, it is common to use a pre-trained language model such as `word2vec` which we explore in this practical.\n",
    "\n",
    "In this setting, the pipeline becomes the following:\n",
    "```\n",
    "      \n",
    "raw text ---|(pre-trained) Language Model|--> vectors --|classifier (or fine-tuning)|--> class \n",
    "```\n",
    "\n",
    "\n",
    "- #### Classic word embeddings\n",
    "\n",
    " - [Word2Vec](https://arxiv.org/abs/1301.3781)\n",
    " - [Glove](https://nlp.stanford.edu/projects/glove/)\n",
    "\n",
    "\n",
    "- #### bleeding edge language models techniques (only here for reference)\n",
    "\n",
    " - [UMLFIT](https://arxiv.org/abs/1801.06146)\n",
    " - [ELMO](https://arxiv.org/abs/1802.05365)\n",
    " - [GPT](https://blog.openai.com/language-unsupervised/)\n",
    " - [BERT](https://arxiv.org/abs/1810.04805)\n",
    "\n",
    "\n",
    "\n",
    "\n",
    "\n",
    "\n",
    "### Goal of this session:\n",
    "\n",
    "1. Train word embeddings on training dataset\n",
    "2. Tinker with the learnt embeddings and see learnt relations\n",
    "3. Tinker with pre-trained embeddings.\n",
    "4. Use those embeddings for classification\n",
    "5. Compare different embedding models\n",
    "6. Pytorch first look: learn to generate text.\n",
    "\n",
    "\n",
    "\n",
    "\n",
    "\n",
    "##  Loading data (same as in nlp 1)"
   ]
  },
  {
   "cell_type": "code",
   "execution_count": 18,
   "metadata": {},
   "outputs": [
    {
     "name": "stdout",
     "output_type": "stream",
     "text": [
      "Number of train reviews :  25000\n",
      "----> # of positive :  12500\n",
      "----> # of negative :  12500\n",
      "\n",
      "[\"The undoubted highlight of this movie is Peter O'Toole's performance. In turn wildly comical and terribly terribly tragic. Does anybody do it better than O'Toole? I don't think so. What a great face that man has!<br /><br />The story is an odd one and quite disturbing and emotionally intense in parts (especially toward the end) but it is also oddly touching and does succeed on many levels. However, I felt the film basically revolved around Peter O'Toole's luminous performance and I'm sure I wouldn't have enjoyed it even half as much if he hadn't been in it.\", 1]\n",
      "\n",
      "Number of test reviews :  25000\n",
      "----> # of positive :  12500\n",
      "----> # of negative :  12500\n",
      "\n",
      "['Although credit should have been given to Dr. Seuess for stealing the story-line of \"Horton Hatches The Egg\", this was a fine film. It touched both the emotions and the intellect. Due especially to the incredible performance of seven year old Justin Henry and a script that was sympathetic to each character (and each one\\'s predicament), the thought provoking elements linger long after the tear jerking ones are over. Overall, superior acting from a solid cast, excellent directing, and a very powerful script. The right touches of humor throughout help keep a \"heavy\" subject from becoming tedious or difficult to sit through. Lastly, this film stands the test of time and seems in no way dated, decades after it was released.', 1]\n",
      "\n"
     ]
    }
   ],
   "source": [
    "import json\n",
    "from collections import Counter\n",
    "import sys, os, warnings\n",
    "if not sys.warnoptions:\n",
    "    warnings.simplefilter(\"ignore\")\n",
    "    os.environ[\"PYTHONWARNINGS\"] = \"ignore\" # Also affect subprocesses\n",
    "\n",
    "#### /!\\ YOU NEED TO UNZIP dataset/json_pol.zip first /!\\\n",
    "\n",
    "\n",
    "# Loading json\n",
    "with open(\"data/json_pol\",encoding=\"utf-8\") as f:\n",
    "    data = f.readlines()\n",
    "    json_data = json.loads(data[0])\n",
    "    train = json_data[\"train\"]\n",
    "    test = json_data[\"test\"]\n",
    "    \n",
    "\n",
    "# Quick Check\n",
    "counter_train = Counter((x[1] for x in train))\n",
    "counter_test = Counter((x[1] for x in test))\n",
    "print(\"Number of train reviews : \", len(train))\n",
    "print(\"----> # of positive : \", counter_train[1])\n",
    "print(\"----> # of negative : \", counter_train[0])\n",
    "print(\"\")\n",
    "print(train[0])\n",
    "print(\"\")\n",
    "print(\"Number of test reviews : \",len(test))\n",
    "print(\"----> # of positive : \", counter_test[1])\n",
    "print(\"----> # of negative : \", counter_test[0])\n",
    "\n",
    "print(\"\")\n",
    "print(test[0])\n",
    "print(\"\")\n",
    "\n"
   ]
  },
  {
   "cell_type": "markdown",
   "metadata": {},
   "source": [
    "## Word2Vec: Quick Recap\n",
    "\n",
    "**[Word2Vec](https://arxiv.org/abs/1301.3781) is composed of two distinct language models (CBOW and SG), optimized to quickly learn word vectors**\n",
    "\n",
    "\n",
    "given a random text: `i'm taking the dog out for a walk`\n",
    "\n",
    "\n",
    "\n",
    "### (a) Continuous Bag of Word (CBOW)\n",
    "    -  predicts a word given a context\n",
    "    \n",
    "maximizing `p(dog | i'm taking the ___ out for a walk)`\n",
    "    \n",
    "### (b) Skip-Gram (SG)               \n",
    "    -  predicts a context given a word\n",
    "    \n",
    " maximizing `p(i'm taking the out for a walk | dog)`\n",
    "\n",
    "\n",
    "\n",
    "   "
   ]
  },
  {
   "cell_type": "markdown",
   "metadata": {},
   "source": [
    "## Step 1: train (or load) a language model (word2vec)\n",
    "\n",
    "Gensim has one of [Word2Vec](https://radimrehurek.com/gensim/models/word2vec.html) fastest implementation.\n",
    "\n",
    "\n",
    "### Train:"
   ]
  },
  {
   "cell_type": "code",
   "execution_count": 19,
   "metadata": {},
   "outputs": [
    {
     "name": "stderr",
     "output_type": "stream",
     "text": [
      "2019-05-31 01:41:20,736 : INFO : collecting all words and their counts\n",
      "2019-05-31 01:41:20,737 : INFO : PROGRESS: at sentence #0, processed 0 words, keeping 0 word types\n",
      "2019-05-31 01:41:21,573 : INFO : PROGRESS: at sentence #10000, processed 2358544 words, keeping 155393 word types\n",
      "2019-05-31 01:41:22,629 : INFO : PROGRESS: at sentence #20000, processed 4675912 words, keeping 243050 word types\n",
      "2019-05-31 01:41:23,025 : INFO : collected 280617 word types from a corpus of 5844680 raw words and 25000 sentences\n",
      "2019-05-31 01:41:23,026 : INFO : Loading a fresh vocabulary\n",
      "2019-05-31 01:41:23,606 : INFO : min_count=5 retains 49345 unique words (17% of original 280617, drops 231272)\n",
      "2019-05-31 01:41:23,607 : INFO : min_count=5 leaves 5517507 word corpus (94% of original 5844680, drops 327173)\n",
      "2019-05-31 01:41:23,830 : INFO : deleting the raw counts dictionary of 280617 items\n",
      "2019-05-31 01:41:23,838 : INFO : sample=0.001 downsamples 43 most-common words\n",
      "2019-05-31 01:41:23,840 : INFO : downsampling leaves estimated 4268608 word corpus (77.4% of prior 5517507)\n",
      "2019-05-31 01:41:24,093 : INFO : estimated required memory for 49345 words and 100 dimensions: 64148500 bytes\n",
      "2019-05-31 01:41:24,095 : INFO : resetting layer weights\n",
      "2019-05-31 01:41:24,723 : INFO : training model with 3 workers on 49345 vocabulary and 100 features, using sg=1 hs=0 sample=0.001 negative=5 window=5\n",
      "2019-05-31 01:41:25,733 : INFO : EPOCH 1 - PROGRESS: at 2.54% examples, 113882 words/s, in_qsize 5, out_qsize 0\n",
      "2019-05-31 01:41:26,733 : INFO : EPOCH 1 - PROGRESS: at 5.89% examples, 128462 words/s, in_qsize 5, out_qsize 0\n",
      "2019-05-31 01:41:27,763 : INFO : EPOCH 1 - PROGRESS: at 9.68% examples, 138888 words/s, in_qsize 5, out_qsize 0\n",
      "2019-05-31 01:41:28,784 : INFO : EPOCH 1 - PROGRESS: at 12.74% examples, 135628 words/s, in_qsize 5, out_qsize 0\n",
      "2019-05-31 01:41:29,836 : INFO : EPOCH 1 - PROGRESS: at 16.26% examples, 137112 words/s, in_qsize 5, out_qsize 0\n",
      "2019-05-31 01:41:30,870 : INFO : EPOCH 1 - PROGRESS: at 20.11% examples, 140743 words/s, in_qsize 6, out_qsize 0\n",
      "2019-05-31 01:41:31,910 : INFO : EPOCH 1 - PROGRESS: at 23.43% examples, 140194 words/s, in_qsize 5, out_qsize 0\n",
      "2019-05-31 01:41:32,917 : INFO : EPOCH 1 - PROGRESS: at 26.74% examples, 140523 words/s, in_qsize 5, out_qsize 0\n",
      "2019-05-31 01:41:33,954 : INFO : EPOCH 1 - PROGRESS: at 30.30% examples, 141052 words/s, in_qsize 6, out_qsize 0\n",
      "2019-05-31 01:41:35,000 : INFO : EPOCH 1 - PROGRESS: at 33.80% examples, 141922 words/s, in_qsize 5, out_qsize 0\n",
      "2019-05-31 01:41:36,042 : INFO : EPOCH 1 - PROGRESS: at 37.20% examples, 141527 words/s, in_qsize 6, out_qsize 0\n",
      "2019-05-31 01:41:37,070 : INFO : EPOCH 1 - PROGRESS: at 40.72% examples, 141367 words/s, in_qsize 6, out_qsize 0\n",
      "2019-05-31 01:41:38,129 : INFO : EPOCH 1 - PROGRESS: at 44.63% examples, 143019 words/s, in_qsize 5, out_qsize 0\n",
      "2019-05-31 01:41:39,137 : INFO : EPOCH 1 - PROGRESS: at 47.56% examples, 141957 words/s, in_qsize 5, out_qsize 0\n",
      "2019-05-31 01:41:40,154 : INFO : EPOCH 1 - PROGRESS: at 50.85% examples, 141951 words/s, in_qsize 5, out_qsize 0\n",
      "2019-05-31 01:41:41,207 : INFO : EPOCH 1 - PROGRESS: at 55.11% examples, 143705 words/s, in_qsize 5, out_qsize 0\n",
      "2019-05-31 01:41:42,211 : INFO : EPOCH 1 - PROGRESS: at 57.88% examples, 142024 words/s, in_qsize 5, out_qsize 0\n",
      "2019-05-31 01:41:43,212 : INFO : EPOCH 1 - PROGRESS: at 60.80% examples, 141285 words/s, in_qsize 6, out_qsize 0\n",
      "2019-05-31 01:41:44,262 : INFO : EPOCH 1 - PROGRESS: at 64.30% examples, 141406 words/s, in_qsize 5, out_qsize 0\n",
      "2019-05-31 01:41:45,330 : INFO : EPOCH 1 - PROGRESS: at 67.87% examples, 141086 words/s, in_qsize 5, out_qsize 0\n",
      "2019-05-31 01:41:46,344 : INFO : EPOCH 1 - PROGRESS: at 69.84% examples, 138143 words/s, in_qsize 5, out_qsize 0\n",
      "2019-05-31 01:41:47,345 : INFO : EPOCH 1 - PROGRESS: at 73.31% examples, 138420 words/s, in_qsize 6, out_qsize 0\n",
      "2019-05-31 01:41:48,351 : INFO : EPOCH 1 - PROGRESS: at 76.49% examples, 138326 words/s, in_qsize 5, out_qsize 0\n",
      "2019-05-31 01:41:49,506 : INFO : EPOCH 1 - PROGRESS: at 79.52% examples, 136839 words/s, in_qsize 5, out_qsize 0\n",
      "2019-05-31 01:41:50,536 : INFO : EPOCH 1 - PROGRESS: at 82.27% examples, 135892 words/s, in_qsize 5, out_qsize 0\n",
      "2019-05-31 01:41:51,554 : INFO : EPOCH 1 - PROGRESS: at 84.35% examples, 134244 words/s, in_qsize 5, out_qsize 0\n",
      "2019-05-31 01:41:52,621 : INFO : EPOCH 1 - PROGRESS: at 86.44% examples, 132462 words/s, in_qsize 5, out_qsize 0\n",
      "2019-05-31 01:41:53,655 : INFO : EPOCH 1 - PROGRESS: at 89.40% examples, 131977 words/s, in_qsize 5, out_qsize 0\n",
      "2019-05-31 01:41:54,666 : INFO : EPOCH 1 - PROGRESS: at 91.32% examples, 130412 words/s, in_qsize 6, out_qsize 0\n",
      "2019-05-31 01:41:55,716 : INFO : EPOCH 1 - PROGRESS: at 93.16% examples, 128566 words/s, in_qsize 4, out_qsize 1\n",
      "2019-05-31 01:41:56,724 : INFO : EPOCH 1 - PROGRESS: at 96.28% examples, 128570 words/s, in_qsize 5, out_qsize 0\n",
      "2019-05-31 01:41:57,591 : INFO : worker thread finished; awaiting finish of 2 more threads\n",
      "2019-05-31 01:41:57,611 : INFO : worker thread finished; awaiting finish of 1 more threads\n",
      "2019-05-31 01:41:57,696 : INFO : worker thread finished; awaiting finish of 0 more threads\n",
      "2019-05-31 01:41:57,698 : INFO : EPOCH - 1 : training on 5844680 raw words (4267802 effective words) took 33.0s, 129463 effective words/s\n",
      "2019-05-31 01:41:58,746 : INFO : EPOCH 2 - PROGRESS: at 2.54% examples, 110239 words/s, in_qsize 5, out_qsize 0\n",
      "2019-05-31 01:41:59,772 : INFO : EPOCH 2 - PROGRESS: at 5.54% examples, 117865 words/s, in_qsize 5, out_qsize 0\n",
      "2019-05-31 01:42:00,780 : INFO : EPOCH 2 - PROGRESS: at 8.62% examples, 123095 words/s, in_qsize 5, out_qsize 0\n",
      "2019-05-31 01:42:01,861 : INFO : EPOCH 2 - PROGRESS: at 13.03% examples, 135930 words/s, in_qsize 5, out_qsize 0\n",
      "2019-05-31 01:42:02,888 : INFO : EPOCH 2 - PROGRESS: at 16.11% examples, 133878 words/s, in_qsize 4, out_qsize 1\n",
      "2019-05-31 01:42:03,962 : INFO : EPOCH 2 - PROGRESS: at 18.08% examples, 124520 words/s, in_qsize 6, out_qsize 0\n",
      "2019-05-31 01:42:05,105 : INFO : EPOCH 2 - PROGRESS: at 20.11% examples, 116872 words/s, in_qsize 5, out_qsize 0\n",
      "2019-05-31 01:42:06,250 : INFO : EPOCH 2 - PROGRESS: at 22.61% examples, 113687 words/s, in_qsize 5, out_qsize 0\n",
      "2019-05-31 01:42:07,307 : INFO : EPOCH 2 - PROGRESS: at 24.69% examples, 110180 words/s, in_qsize 5, out_qsize 0\n",
      "2019-05-31 01:42:08,358 : INFO : EPOCH 2 - PROGRESS: at 27.58% examples, 111429 words/s, in_qsize 6, out_qsize 0\n",
      "2019-05-31 01:42:09,372 : INFO : EPOCH 2 - PROGRESS: at 30.79% examples, 113401 words/s, in_qsize 5, out_qsize 0\n",
      "2019-05-31 01:42:10,392 : INFO : EPOCH 2 - PROGRESS: at 33.80% examples, 114955 words/s, in_qsize 5, out_qsize 0\n",
      "2019-05-31 01:42:11,471 : INFO : EPOCH 2 - PROGRESS: at 37.39% examples, 116890 words/s, in_qsize 5, out_qsize 0\n",
      "2019-05-31 01:42:12,474 : INFO : EPOCH 2 - PROGRESS: at 41.04% examples, 119159 words/s, in_qsize 5, out_qsize 0\n",
      "2019-05-31 01:42:13,528 : INFO : EPOCH 2 - PROGRESS: at 44.50% examples, 120725 words/s, in_qsize 5, out_qsize 0\n",
      "2019-05-31 01:42:14,559 : INFO : EPOCH 2 - PROGRESS: at 47.73% examples, 121837 words/s, in_qsize 6, out_qsize 0\n",
      "2019-05-31 01:42:15,588 : INFO : EPOCH 2 - PROGRESS: at 51.49% examples, 124094 words/s, in_qsize 5, out_qsize 0\n",
      "2019-05-31 01:42:16,611 : INFO : EPOCH 2 - PROGRESS: at 54.56% examples, 124149 words/s, in_qsize 5, out_qsize 0\n",
      "2019-05-31 01:42:17,677 : INFO : EPOCH 2 - PROGRESS: at 57.88% examples, 124352 words/s, in_qsize 5, out_qsize 0\n",
      "2019-05-31 01:42:18,714 : INFO : EPOCH 2 - PROGRESS: at 61.76% examples, 126374 words/s, in_qsize 5, out_qsize 0\n",
      "2019-05-31 01:42:19,758 : INFO : EPOCH 2 - PROGRESS: at 64.89% examples, 126246 words/s, in_qsize 5, out_qsize 0\n",
      "2019-05-31 01:42:20,795 : INFO : EPOCH 2 - PROGRESS: at 68.37% examples, 126832 words/s, in_qsize 5, out_qsize 0\n",
      "2019-05-31 01:42:21,893 : INFO : EPOCH 2 - PROGRESS: at 72.28% examples, 127648 words/s, in_qsize 5, out_qsize 0\n",
      "2019-05-31 01:42:22,966 : INFO : EPOCH 2 - PROGRESS: at 75.82% examples, 128222 words/s, in_qsize 5, out_qsize 0\n",
      "2019-05-31 01:42:24,034 : INFO : EPOCH 2 - PROGRESS: at 79.52% examples, 128791 words/s, in_qsize 5, out_qsize 0\n",
      "2019-05-31 01:42:25,114 : INFO : EPOCH 2 - PROGRESS: at 83.05% examples, 129301 words/s, in_qsize 5, out_qsize 0\n"
     ]
    },
    {
     "name": "stderr",
     "output_type": "stream",
     "text": [
      "2019-05-31 01:42:26,117 : INFO : EPOCH 2 - PROGRESS: at 86.84% examples, 130578 words/s, in_qsize 5, out_qsize 0\n",
      "2019-05-31 01:42:27,129 : INFO : EPOCH 2 - PROGRESS: at 89.74% examples, 130254 words/s, in_qsize 5, out_qsize 0\n",
      "2019-05-31 01:42:28,197 : INFO : EPOCH 2 - PROGRESS: at 93.16% examples, 130678 words/s, in_qsize 5, out_qsize 0\n",
      "2019-05-31 01:42:29,286 : INFO : EPOCH 2 - PROGRESS: at 97.49% examples, 131897 words/s, in_qsize 4, out_qsize 1\n",
      "2019-05-31 01:42:30,106 : INFO : worker thread finished; awaiting finish of 2 more threads\n",
      "2019-05-31 01:42:30,115 : INFO : worker thread finished; awaiting finish of 1 more threads\n",
      "2019-05-31 01:42:30,169 : INFO : worker thread finished; awaiting finish of 0 more threads\n",
      "2019-05-31 01:42:30,171 : INFO : EPOCH - 2 : training on 5844680 raw words (4268349 effective words) took 32.5s, 131502 effective words/s\n",
      "2019-05-31 01:42:31,212 : INFO : EPOCH 3 - PROGRESS: at 3.20% examples, 137592 words/s, in_qsize 5, out_qsize 0\n",
      "2019-05-31 01:42:32,262 : INFO : EPOCH 3 - PROGRESS: at 7.10% examples, 150521 words/s, in_qsize 5, out_qsize 0\n",
      "2019-05-31 01:42:33,288 : INFO : EPOCH 3 - PROGRESS: at 10.17% examples, 142273 words/s, in_qsize 4, out_qsize 1\n",
      "2019-05-31 01:42:34,346 : INFO : EPOCH 3 - PROGRESS: at 13.70% examples, 142094 words/s, in_qsize 5, out_qsize 0\n",
      "2019-05-31 01:42:35,388 : INFO : EPOCH 3 - PROGRESS: at 17.60% examples, 145223 words/s, in_qsize 5, out_qsize 0\n",
      "2019-05-31 01:42:36,401 : INFO : EPOCH 3 - PROGRESS: at 20.76% examples, 143355 words/s, in_qsize 5, out_qsize 0\n",
      "2019-05-31 01:42:37,444 : INFO : EPOCH 3 - PROGRESS: at 24.32% examples, 143509 words/s, in_qsize 5, out_qsize 0\n",
      "2019-05-31 01:42:38,606 : INFO : EPOCH 3 - PROGRESS: at 27.75% examples, 141592 words/s, in_qsize 6, out_qsize 0\n",
      "2019-05-31 01:42:39,633 : INFO : EPOCH 3 - PROGRESS: at 31.28% examples, 142093 words/s, in_qsize 5, out_qsize 0\n",
      "2019-05-31 01:42:40,669 : INFO : EPOCH 3 - PROGRESS: at 34.12% examples, 140259 words/s, in_qsize 5, out_qsize 0\n",
      "2019-05-31 01:42:41,703 : INFO : EPOCH 3 - PROGRESS: at 37.20% examples, 138893 words/s, in_qsize 5, out_qsize 0\n",
      "2019-05-31 01:42:42,756 : INFO : EPOCH 3 - PROGRESS: at 41.40% examples, 140949 words/s, in_qsize 5, out_qsize 0\n",
      "2019-05-31 01:42:43,782 : INFO : EPOCH 3 - PROGRESS: at 44.34% examples, 139781 words/s, in_qsize 5, out_qsize 0\n",
      "2019-05-31 01:42:44,853 : INFO : EPOCH 3 - PROGRESS: at 47.73% examples, 139839 words/s, in_qsize 5, out_qsize 0\n",
      "2019-05-31 01:42:45,873 : INFO : EPOCH 3 - PROGRESS: at 51.32% examples, 140861 words/s, in_qsize 5, out_qsize 0\n",
      "2019-05-31 01:42:46,883 : INFO : EPOCH 3 - PROGRESS: at 54.74% examples, 140859 words/s, in_qsize 5, out_qsize 0\n",
      "2019-05-31 01:42:47,890 : INFO : EPOCH 3 - PROGRESS: at 58.24% examples, 140988 words/s, in_qsize 5, out_qsize 0\n",
      "2019-05-31 01:42:48,935 : INFO : EPOCH 3 - PROGRESS: at 61.60% examples, 141132 words/s, in_qsize 5, out_qsize 0\n",
      "2019-05-31 01:42:49,991 : INFO : EPOCH 3 - PROGRESS: at 65.26% examples, 141201 words/s, in_qsize 5, out_qsize 0\n",
      "2019-05-31 01:42:51,002 : INFO : EPOCH 3 - PROGRESS: at 68.54% examples, 140946 words/s, in_qsize 5, out_qsize 0\n",
      "2019-05-31 01:42:52,107 : INFO : EPOCH 3 - PROGRESS: at 72.65% examples, 141437 words/s, in_qsize 6, out_qsize 0\n",
      "2019-05-31 01:42:53,135 : INFO : EPOCH 3 - PROGRESS: at 77.18% examples, 143592 words/s, in_qsize 5, out_qsize 0\n",
      "2019-05-31 01:42:54,175 : INFO : EPOCH 3 - PROGRESS: at 80.91% examples, 143708 words/s, in_qsize 5, out_qsize 0\n",
      "2019-05-31 01:42:55,229 : INFO : EPOCH 3 - PROGRESS: at 84.35% examples, 143738 words/s, in_qsize 5, out_qsize 0\n",
      "2019-05-31 01:42:56,387 : INFO : EPOCH 3 - PROGRESS: at 88.87% examples, 144817 words/s, in_qsize 6, out_qsize 0\n",
      "2019-05-31 01:42:57,413 : INFO : EPOCH 3 - PROGRESS: at 92.82% examples, 145724 words/s, in_qsize 5, out_qsize 0\n",
      "2019-05-31 01:42:58,419 : INFO : EPOCH 3 - PROGRESS: at 96.28% examples, 145645 words/s, in_qsize 5, out_qsize 0\n",
      "2019-05-31 01:42:59,188 : INFO : worker thread finished; awaiting finish of 2 more threads\n",
      "2019-05-31 01:42:59,194 : INFO : worker thread finished; awaiting finish of 1 more threads\n",
      "2019-05-31 01:42:59,237 : INFO : worker thread finished; awaiting finish of 0 more threads\n",
      "2019-05-31 01:42:59,239 : INFO : EPOCH - 3 : training on 5844680 raw words (4267820 effective words) took 29.1s, 146855 effective words/s\n",
      "2019-05-31 01:43:00,277 : INFO : EPOCH 4 - PROGRESS: at 3.37% examples, 145799 words/s, in_qsize 5, out_qsize 0\n",
      "2019-05-31 01:43:01,307 : INFO : EPOCH 4 - PROGRESS: at 6.61% examples, 142182 words/s, in_qsize 5, out_qsize 0\n",
      "2019-05-31 01:43:02,321 : INFO : EPOCH 4 - PROGRESS: at 11.05% examples, 155754 words/s, in_qsize 5, out_qsize 0\n",
      "2019-05-31 01:43:03,360 : INFO : EPOCH 4 - PROGRESS: at 14.72% examples, 154603 words/s, in_qsize 5, out_qsize 0\n",
      "2019-05-31 01:43:04,396 : INFO : EPOCH 4 - PROGRESS: at 18.27% examples, 152579 words/s, in_qsize 5, out_qsize 0\n",
      "2019-05-31 01:43:05,456 : INFO : EPOCH 4 - PROGRESS: at 22.28% examples, 154029 words/s, in_qsize 4, out_qsize 1\n",
      "2019-05-31 01:43:06,469 : INFO : EPOCH 4 - PROGRESS: at 26.28% examples, 156323 words/s, in_qsize 6, out_qsize 0\n",
      "2019-05-31 01:43:07,527 : INFO : EPOCH 4 - PROGRESS: at 29.74% examples, 154513 words/s, in_qsize 5, out_qsize 0\n",
      "2019-05-31 01:43:08,679 : INFO : EPOCH 4 - PROGRESS: at 33.64% examples, 153764 words/s, in_qsize 5, out_qsize 0\n",
      "2019-05-31 01:43:09,692 : INFO : EPOCH 4 - PROGRESS: at 38.21% examples, 157371 words/s, in_qsize 6, out_qsize 0\n",
      "2019-05-31 01:43:10,755 : INFO : EPOCH 4 - PROGRESS: at 41.56% examples, 154646 words/s, in_qsize 4, out_qsize 1\n",
      "2019-05-31 01:43:11,813 : INFO : EPOCH 4 - PROGRESS: at 44.93% examples, 153626 words/s, in_qsize 6, out_qsize 0\n",
      "2019-05-31 01:43:12,825 : INFO : EPOCH 4 - PROGRESS: at 48.85% examples, 154807 words/s, in_qsize 5, out_qsize 0\n",
      "2019-05-31 01:43:13,830 : INFO : EPOCH 4 - PROGRESS: at 52.53% examples, 155018 words/s, in_qsize 5, out_qsize 0\n",
      "2019-05-31 01:43:14,847 : INFO : EPOCH 4 - PROGRESS: at 55.99% examples, 154072 words/s, in_qsize 5, out_qsize 0\n",
      "2019-05-31 01:43:15,865 : INFO : EPOCH 4 - PROGRESS: at 60.06% examples, 155021 words/s, in_qsize 5, out_qsize 0\n",
      "2019-05-31 01:43:16,893 : INFO : EPOCH 4 - PROGRESS: at 63.75% examples, 155273 words/s, in_qsize 6, out_qsize 0\n",
      "2019-05-31 01:43:17,909 : INFO : EPOCH 4 - PROGRESS: at 67.18% examples, 154167 words/s, in_qsize 4, out_qsize 1\n",
      "2019-05-31 01:43:18,971 : INFO : EPOCH 4 - PROGRESS: at 71.41% examples, 154650 words/s, in_qsize 5, out_qsize 0\n",
      "2019-05-31 01:43:19,979 : INFO : EPOCH 4 - PROGRESS: at 75.16% examples, 154783 words/s, in_qsize 5, out_qsize 0\n",
      "2019-05-31 01:43:21,060 : INFO : EPOCH 4 - PROGRESS: at 78.79% examples, 154097 words/s, in_qsize 5, out_qsize 0\n",
      "2019-05-31 01:43:22,075 : INFO : EPOCH 4 - PROGRESS: at 82.46% examples, 153931 words/s, in_qsize 5, out_qsize 0\n",
      "2019-05-31 01:43:23,095 : INFO : EPOCH 4 - PROGRESS: at 86.44% examples, 154908 words/s, in_qsize 5, out_qsize 0\n",
      "2019-05-31 01:43:24,129 : INFO : EPOCH 4 - PROGRESS: at 89.90% examples, 154270 words/s, in_qsize 5, out_qsize 0\n",
      "2019-05-31 01:43:25,212 : INFO : EPOCH 4 - PROGRESS: at 93.38% examples, 153690 words/s, in_qsize 6, out_qsize 0\n",
      "2019-05-31 01:43:26,229 : INFO : EPOCH 4 - PROGRESS: at 97.80% examples, 154852 words/s, in_qsize 5, out_qsize 0\n",
      "2019-05-31 01:43:26,888 : INFO : worker thread finished; awaiting finish of 2 more threads\n",
      "2019-05-31 01:43:26,893 : INFO : worker thread finished; awaiting finish of 1 more threads\n",
      "2019-05-31 01:43:26,915 : INFO : worker thread finished; awaiting finish of 0 more threads\n",
      "2019-05-31 01:43:26,915 : INFO : EPOCH - 4 : training on 5844680 raw words (4267366 effective words) took 27.7s, 154250 effective words/s\n",
      "2019-05-31 01:43:27,992 : INFO : EPOCH 5 - PROGRESS: at 3.54% examples, 146008 words/s, in_qsize 6, out_qsize 0\n",
      "2019-05-31 01:43:29,000 : INFO : EPOCH 5 - PROGRESS: at 7.46% examples, 157569 words/s, in_qsize 5, out_qsize 0\n",
      "2019-05-31 01:43:30,030 : INFO : EPOCH 5 - PROGRESS: at 10.85% examples, 151377 words/s, in_qsize 4, out_qsize 1\n",
      "2019-05-31 01:43:31,125 : INFO : EPOCH 5 - PROGRESS: at 14.72% examples, 151026 words/s, in_qsize 6, out_qsize 0\n",
      "2019-05-31 01:43:32,218 : INFO : EPOCH 5 - PROGRESS: at 18.92% examples, 153598 words/s, in_qsize 4, out_qsize 1\n"
     ]
    },
    {
     "name": "stderr",
     "output_type": "stream",
     "text": [
      "2019-05-31 01:43:33,329 : INFO : EPOCH 5 - PROGRESS: at 20.39% examples, 136986 words/s, in_qsize 5, out_qsize 0\n",
      "2019-05-31 01:43:34,330 : INFO : EPOCH 5 - PROGRESS: at 22.14% examples, 128026 words/s, in_qsize 6, out_qsize 0\n",
      "2019-05-31 01:43:35,399 : INFO : EPOCH 5 - PROGRESS: at 24.32% examples, 122917 words/s, in_qsize 5, out_qsize 0\n",
      "2019-05-31 01:43:36,401 : INFO : EPOCH 5 - PROGRESS: at 25.66% examples, 115978 words/s, in_qsize 5, out_qsize 0\n",
      "2019-05-31 01:43:37,563 : INFO : EPOCH 5 - PROGRESS: at 26.90% examples, 108700 words/s, in_qsize 6, out_qsize 0\n",
      "2019-05-31 01:43:38,568 : INFO : EPOCH 5 - PROGRESS: at 28.06% examples, 103651 words/s, in_qsize 6, out_qsize 0\n",
      "2019-05-31 01:43:39,648 : INFO : EPOCH 5 - PROGRESS: at 29.21% examples, 98791 words/s, in_qsize 6, out_qsize 0\n",
      "2019-05-31 01:43:40,733 : INFO : EPOCH 5 - PROGRESS: at 30.63% examples, 95162 words/s, in_qsize 6, out_qsize 0\n",
      "2019-05-31 01:43:41,788 : INFO : EPOCH 5 - PROGRESS: at 31.75% examples, 91745 words/s, in_qsize 5, out_qsize 0\n",
      "2019-05-31 01:43:42,821 : INFO : EPOCH 5 - PROGRESS: at 33.04% examples, 89377 words/s, in_qsize 5, out_qsize 0\n",
      "2019-05-31 01:43:43,825 : INFO : EPOCH 5 - PROGRESS: at 34.12% examples, 87027 words/s, in_qsize 6, out_qsize 0\n",
      "2019-05-31 01:43:44,825 : INFO : EPOCH 5 - PROGRESS: at 35.50% examples, 85377 words/s, in_qsize 5, out_qsize 0\n",
      "2019-05-31 01:43:46,000 : INFO : EPOCH 5 - PROGRESS: at 36.68% examples, 82743 words/s, in_qsize 6, out_qsize 0\n",
      "2019-05-31 01:43:47,267 : INFO : EPOCH 5 - PROGRESS: at 38.21% examples, 80775 words/s, in_qsize 6, out_qsize 0\n",
      "2019-05-31 01:43:48,527 : INFO : EPOCH 5 - PROGRESS: at 39.81% examples, 79054 words/s, in_qsize 6, out_qsize 0\n",
      "2019-05-31 01:43:49,916 : INFO : EPOCH 5 - PROGRESS: at 41.40% examples, 77081 words/s, in_qsize 6, out_qsize 0\n",
      "2019-05-31 01:43:51,213 : INFO : EPOCH 5 - PROGRESS: at 42.84% examples, 75615 words/s, in_qsize 5, out_qsize 0\n",
      "2019-05-31 01:43:52,533 : INFO : EPOCH 5 - PROGRESS: at 44.34% examples, 74241 words/s, in_qsize 5, out_qsize 0\n",
      "2019-05-31 01:43:53,937 : INFO : EPOCH 5 - PROGRESS: at 45.71% examples, 72765 words/s, in_qsize 5, out_qsize 0\n",
      "2019-05-31 01:43:55,015 : INFO : EPOCH 5 - PROGRESS: at 47.05% examples, 72018 words/s, in_qsize 5, out_qsize 0\n",
      "2019-05-31 01:43:56,050 : INFO : EPOCH 5 - PROGRESS: at 47.86% examples, 70693 words/s, in_qsize 5, out_qsize 0\n",
      "2019-05-31 01:43:57,096 : INFO : EPOCH 5 - PROGRESS: at 48.85% examples, 69661 words/s, in_qsize 5, out_qsize 0\n",
      "2019-05-31 01:43:58,131 : INFO : EPOCH 5 - PROGRESS: at 50.00% examples, 68975 words/s, in_qsize 5, out_qsize 0\n",
      "2019-05-31 01:43:59,134 : INFO : EPOCH 5 - PROGRESS: at 50.69% examples, 67735 words/s, in_qsize 5, out_qsize 0\n",
      "2019-05-31 01:44:00,213 : INFO : EPOCH 5 - PROGRESS: at 51.49% examples, 66621 words/s, in_qsize 5, out_qsize 0\n",
      "2019-05-31 01:44:01,565 : INFO : EPOCH 5 - PROGRESS: at 52.19% examples, 64848 words/s, in_qsize 6, out_qsize 0\n",
      "2019-05-31 01:44:03,023 : INFO : EPOCH 5 - PROGRESS: at 53.28% examples, 63405 words/s, in_qsize 6, out_qsize 0\n",
      "2019-05-31 01:44:04,130 : INFO : EPOCH 5 - PROGRESS: at 54.18% examples, 62654 words/s, in_qsize 5, out_qsize 0\n",
      "2019-05-31 01:44:05,180 : INFO : EPOCH 5 - PROGRESS: at 55.32% examples, 62060 words/s, in_qsize 5, out_qsize 0\n",
      "2019-05-31 01:44:06,302 : INFO : EPOCH 5 - PROGRESS: at 56.35% examples, 61392 words/s, in_qsize 5, out_qsize 0\n",
      "2019-05-31 01:44:07,475 : INFO : EPOCH 5 - PROGRESS: at 57.34% examples, 60673 words/s, in_qsize 6, out_qsize 0\n",
      "2019-05-31 01:44:08,629 : INFO : EPOCH 5 - PROGRESS: at 58.38% examples, 60033 words/s, in_qsize 5, out_qsize 1\n",
      "2019-05-31 01:44:09,811 : INFO : EPOCH 5 - PROGRESS: at 59.40% examples, 59387 words/s, in_qsize 6, out_qsize 0\n",
      "2019-05-31 01:44:10,945 : INFO : EPOCH 5 - PROGRESS: at 60.36% examples, 58826 words/s, in_qsize 5, out_qsize 0\n",
      "2019-05-31 01:44:12,173 : INFO : EPOCH 5 - PROGRESS: at 61.25% examples, 58166 words/s, in_qsize 6, out_qsize 0\n",
      "2019-05-31 01:44:13,381 : INFO : EPOCH 5 - PROGRESS: at 62.28% examples, 57579 words/s, in_qsize 5, out_qsize 0\n",
      "2019-05-31 01:44:14,615 : INFO : EPOCH 5 - PROGRESS: at 63.22% examples, 56993 words/s, in_qsize 6, out_qsize 0\n",
      "2019-05-31 01:44:15,806 : INFO : EPOCH 5 - PROGRESS: at 64.30% examples, 56487 words/s, in_qsize 6, out_qsize 1\n",
      "2019-05-31 01:44:17,000 : INFO : EPOCH 5 - PROGRESS: at 65.43% examples, 55996 words/s, in_qsize 6, out_qsize 0\n",
      "2019-05-31 01:44:18,083 : INFO : EPOCH 5 - PROGRESS: at 66.50% examples, 55665 words/s, in_qsize 5, out_qsize 0\n",
      "2019-05-31 01:44:19,244 : INFO : EPOCH 5 - PROGRESS: at 67.55% examples, 55262 words/s, in_qsize 5, out_qsize 0\n",
      "2019-05-31 01:44:20,370 : INFO : EPOCH 5 - PROGRESS: at 68.54% examples, 54906 words/s, in_qsize 5, out_qsize 0\n",
      "2019-05-31 01:44:21,724 : INFO : EPOCH 5 - PROGRESS: at 69.65% examples, 54342 words/s, in_qsize 5, out_qsize 0\n",
      "2019-05-31 01:44:22,888 : INFO : EPOCH 5 - PROGRESS: at 70.34% examples, 53729 words/s, in_qsize 6, out_qsize 0\n",
      "2019-05-31 01:44:24,065 : INFO : EPOCH 5 - PROGRESS: at 71.23% examples, 53254 words/s, in_qsize 5, out_qsize 0\n",
      "2019-05-31 01:44:25,172 : INFO : EPOCH 5 - PROGRESS: at 71.94% examples, 52741 words/s, in_qsize 5, out_qsize 0\n",
      "2019-05-31 01:44:26,216 : INFO : EPOCH 5 - PROGRESS: at 72.65% examples, 52299 words/s, in_qsize 5, out_qsize 0\n",
      "2019-05-31 01:44:27,478 : INFO : EPOCH 5 - PROGRESS: at 73.44% examples, 51805 words/s, in_qsize 5, out_qsize 0\n",
      "2019-05-31 01:44:28,665 : INFO : EPOCH 5 - PROGRESS: at 74.48% examples, 51503 words/s, in_qsize 6, out_qsize 0\n",
      "2019-05-31 01:44:29,814 : INFO : EPOCH 5 - PROGRESS: at 75.48% examples, 51254 words/s, in_qsize 5, out_qsize 0\n",
      "2019-05-31 01:44:31,044 : INFO : EPOCH 5 - PROGRESS: at 76.49% examples, 50951 words/s, in_qsize 5, out_qsize 0\n",
      "2019-05-31 01:44:32,119 : INFO : EPOCH 5 - PROGRESS: at 77.55% examples, 50775 words/s, in_qsize 5, out_qsize 0\n",
      "2019-05-31 01:44:33,226 : INFO : EPOCH 5 - PROGRESS: at 78.62% examples, 50585 words/s, in_qsize 6, out_qsize 0\n",
      "2019-05-31 01:44:34,312 : INFO : EPOCH 5 - PROGRESS: at 79.65% examples, 50412 words/s, in_qsize 4, out_qsize 1\n",
      "2019-05-31 01:44:35,367 : INFO : EPOCH 5 - PROGRESS: at 80.72% examples, 50275 words/s, in_qsize 6, out_qsize 0\n",
      "2019-05-31 01:44:36,453 : INFO : EPOCH 5 - PROGRESS: at 81.77% examples, 50116 words/s, in_qsize 6, out_qsize 0\n",
      "2019-05-31 01:44:37,537 : INFO : EPOCH 5 - PROGRESS: at 82.74% examples, 49964 words/s, in_qsize 6, out_qsize 0\n",
      "2019-05-31 01:44:38,631 : INFO : EPOCH 5 - PROGRESS: at 83.52% examples, 49710 words/s, in_qsize 6, out_qsize 0\n",
      "2019-05-31 01:44:39,903 : INFO : EPOCH 5 - PROGRESS: at 84.50% examples, 49438 words/s, in_qsize 6, out_qsize 0\n",
      "2019-05-31 01:44:41,004 : INFO : EPOCH 5 - PROGRESS: at 85.50% examples, 49281 words/s, in_qsize 6, out_qsize 0\n",
      "2019-05-31 01:44:42,019 : INFO : EPOCH 5 - PROGRESS: at 86.26% examples, 49096 words/s, in_qsize 6, out_qsize 0\n",
      "2019-05-31 01:44:43,186 : INFO : EPOCH 5 - PROGRESS: at 87.36% examples, 48915 words/s, in_qsize 5, out_qsize 0\n",
      "2019-05-31 01:44:44,303 : INFO : EPOCH 5 - PROGRESS: at 88.37% examples, 48775 words/s, in_qsize 6, out_qsize 0\n",
      "2019-05-31 01:44:45,396 : INFO : EPOCH 5 - PROGRESS: at 89.40% examples, 48643 words/s, in_qsize 5, out_qsize 0\n",
      "2019-05-31 01:44:46,448 : INFO : EPOCH 5 - PROGRESS: at 90.40% examples, 48544 words/s, in_qsize 5, out_qsize 0\n",
      "2019-05-31 01:44:47,520 : INFO : EPOCH 5 - PROGRESS: at 91.32% examples, 48436 words/s, in_qsize 5, out_qsize 0\n",
      "2019-05-31 01:44:48,650 : INFO : EPOCH 5 - PROGRESS: at 92.36% examples, 48298 words/s, in_qsize 5, out_qsize 0\n",
      "2019-05-31 01:44:49,821 : INFO : EPOCH 5 - PROGRESS: at 93.38% examples, 48141 words/s, in_qsize 5, out_qsize 0\n",
      "2019-05-31 01:44:51,072 : INFO : EPOCH 5 - PROGRESS: at 94.26% examples, 47855 words/s, in_qsize 5, out_qsize 0\n",
      "2019-05-31 01:44:52,294 : INFO : EPOCH 5 - PROGRESS: at 95.28% examples, 47679 words/s, in_qsize 6, out_qsize 0\n",
      "2019-05-31 01:44:53,331 : INFO : EPOCH 5 - PROGRESS: at 96.28% examples, 47606 words/s, in_qsize 6, out_qsize 0\n",
      "2019-05-31 01:44:54,440 : INFO : EPOCH 5 - PROGRESS: at 97.30% examples, 47503 words/s, in_qsize 5, out_qsize 0\n",
      "2019-05-31 01:44:55,566 : INFO : EPOCH 5 - PROGRESS: at 98.36% examples, 47384 words/s, in_qsize 5, out_qsize 0\n",
      "2019-05-31 01:44:56,672 : INFO : EPOCH 5 - PROGRESS: at 99.45% examples, 47288 words/s, in_qsize 4, out_qsize 0\n"
     ]
    },
    {
     "name": "stderr",
     "output_type": "stream",
     "text": [
      "2019-05-31 01:44:56,989 : INFO : worker thread finished; awaiting finish of 2 more threads\n",
      "2019-05-31 01:44:57,017 : INFO : worker thread finished; awaiting finish of 1 more threads\n",
      "2019-05-31 01:44:57,187 : INFO : worker thread finished; awaiting finish of 0 more threads\n",
      "2019-05-31 01:44:57,193 : INFO : EPOCH - 5 : training on 5844680 raw words (4268252 effective words) took 90.3s, 47282 effective words/s\n",
      "2019-05-31 01:44:57,201 : INFO : training on a 29223400 raw words (21339589 effective words) took 212.5s, 100436 effective words/s\n"
     ]
    }
   ],
   "source": [
    "import gensim\n",
    "import logging\n",
    "logging.basicConfig(format='%(asctime)s : %(levelname)s : %(message)s', level=logging.INFO)\n",
    "\n",
    "text = [t.split() for t,p in train]\n",
    "\n",
    "# the following configuration is the default configuration\n",
    "w2v = gensim.models.word2vec.Word2Vec(sentences=text,\n",
    "                                size=100, window=5,               ### here we train a cbow model \n",
    "                                min_count=5,                      \n",
    "                                sample=0.001, workers=3,\n",
    "                                sg=1, hs=0, negative=5,        ### set sg to 1 to train a sg model\n",
    "                                cbow_mean=1,\n",
    "                                iter=5)"
   ]
  },
  {
   "cell_type": "markdown",
   "metadata": {},
   "source": [
    "### Load pre-trained embeddings:"
   ]
  },
  {
   "cell_type": "code",
   "execution_count": 20,
   "metadata": {},
   "outputs": [],
   "source": [
    "# It's for later\n",
    "\n",
    "#from gensim.test.utils import datapath\n",
    "#w2v = KeyedVectors.load_word2vec_format(datapath('downloaded_vectors_path'), binary=False)  "
   ]
  },
  {
   "cell_type": "markdown",
   "metadata": {},
   "source": [
    "In Gensim, embeddings are loaded and can be used via the [\"KeyedVectors\"](https://radimrehurek.com/gensim/models/keyedvectors.html) class\n",
    "\n",
    "> Since trained word vectors are independent from the way they were trained (Word2Vec, FastText, WordRank, VarEmbed etc), they can be represented by a standalone structure, as implemented in this module.\n",
    "\n",
    ">The structure is called “KeyedVectors” and is essentially a mapping between entities and vectors. Each entity is identified by its string id, so this is a mapping between {str => 1D numpy array}.\n",
    "\n",
    ">The entity typically corresponds to a word (so the mapping maps words to 1D vectors), but for some models, they key can also correspond to a document, a graph node etc. To generalize over different use-cases, this module calls the keys entities. Each entity is always represented by its string id, no matter whether the entity is a word, a document or a graph node."
   ]
  },
  {
   "cell_type": "markdown",
   "metadata": {},
   "source": [
    "## STEP 2: Test learnt embeddings\n",
    "\n",
    "The word embedding space directly encodes similarities between words: the vector coding for the word \"great\" will be closer to the vector coding for \"good\" than to the one coding for \"bad\". Generally, [cosine similarity](https://en.wikipedia.org/wiki/Cosine_similarity) is the distance used when considering distance between vectors.\n",
    "\n",
    "KeyedVectors have a built in [similarity](https://radimrehurek.com/gensim/models /keyedvectors.html#gensim.models.keyedvectors.BaseKeyedVectors.similarity) method to compute the cosine similarity between words"
   ]
  },
  {
   "cell_type": "code",
   "execution_count": 21,
   "metadata": {},
   "outputs": [
    {
     "name": "stdout",
     "output_type": "stream",
     "text": [
      "great and good: 0.7742736919409504\n",
      "great and bad: 0.4786650067084871\n"
     ]
    }
   ],
   "source": [
    "# is great really closer to good than to bad ?\n",
    "print(\"great and good:\",w2v.wv.similarity(\"great\",\"good\"))\n",
    "print(\"great and bad:\",w2v.wv.similarity(\"great\",\"bad\"))"
   ]
  },
  {
   "cell_type": "markdown",
   "metadata": {},
   "source": [
    "Since cosine distance encodes similarity, neighboring words are supposed to be similar. The [most_similar](https://radimrehurek.com/gensim/models/keyedvectors.html#gensim.models.keyedvectors.BaseKeyedVectors.most_similar) method returns the `topn` words given a query."
   ]
  },
  {
   "cell_type": "code",
   "execution_count": 22,
   "metadata": {},
   "outputs": [
    {
     "name": "stderr",
     "output_type": "stream",
     "text": [
      "2019-05-31 01:46:00,348 : INFO : precomputing L2-norms of word weight vectors\n"
     ]
    },
    {
     "data": {
      "text/plain": [
       "[('film', 0.9409251809120178),\n",
       " ('\"film\"', 0.8615127801895142),\n",
       " ('\"movie\"', 0.7822023630142212),\n",
       " ('programme', 0.7682238221168518),\n",
       " ('movie,', 0.7540420293807983)]"
      ]
     },
     "execution_count": 22,
     "metadata": {},
     "output_type": "execute_result"
    }
   ],
   "source": [
    "# The query can be as simple as a word, such as \"movie\"\n",
    "\n",
    "# Try changing the word\n",
    "w2v.wv.most_similar(\"movie\",topn=5) # 5 most similar words\n",
    "#w2v.wv.most_similar(\"awesome\",topn=5)\n",
    "#w2v.wv.most_similar(\"actor\",topn=5)"
   ]
  },
  {
   "cell_type": "markdown",
   "metadata": {},
   "source": [
    "But it can be a more complicated query\n",
    "Word embedding spaces tend to encode much more.\n",
    "\n",
    "The most famous exemple is: `vec(king) - vec(man) + vec(woman) => vec(queen)`"
   ]
  },
  {
   "cell_type": "code",
   "execution_count": 23,
   "metadata": {},
   "outputs": [
    {
     "data": {
      "text/plain": [
       "[('B', 0.6892256736755371),\n",
       " ('\"B\"', 0.6766188144683838),\n",
       " ('low-budget', 0.6486255526542664)]"
      ]
     },
     "execution_count": 23,
     "metadata": {},
     "output_type": "execute_result"
    }
   ],
   "source": [
    "# What is awesome - good + bad ?\n",
    "w2v.wv.most_similar(positive=[\"horror\",\"good\"],negative=[\"fear\"],topn=3)  \n",
    "\n",
    "\n",
    "# Try other things like plurals for exemple.\n"
   ]
  },
  {
   "cell_type": "markdown",
   "metadata": {},
   "source": [
    "To test learnt \"synctactic\" and \"semantic\" similarities, Mikolov et al. introduced a special dataset containing a wide variety of three way similarities."
   ]
  },
  {
   "cell_type": "code",
   "execution_count": 24,
   "metadata": {},
   "outputs": [
    {
     "ename": "AttributeError",
     "evalue": "'Word2VecKeyedVectors' object has no attribute 'evaluate_word_analogies'",
     "output_type": "error",
     "traceback": [
      "\u001b[0;31m---------------------------------------------------------------------------\u001b[0m",
      "\u001b[0;31mAttributeError\u001b[0m                            Traceback (most recent call last)",
      "\u001b[0;32m<ipython-input-24-f019b1a1322e>\u001b[0m in \u001b[0;36m<module>\u001b[0;34m\u001b[0m\n\u001b[0;32m----> 1\u001b[0;31m \u001b[0mout\u001b[0m \u001b[0;34m=\u001b[0m \u001b[0mw2v\u001b[0m\u001b[0;34m.\u001b[0m\u001b[0mwv\u001b[0m\u001b[0;34m.\u001b[0m\u001b[0mevaluate_word_analogies\u001b[0m\u001b[0;34m(\u001b[0m\u001b[0;34m\"data/questions-words.txt\"\u001b[0m\u001b[0;34m,\u001b[0m\u001b[0mcase_insensitive\u001b[0m\u001b[0;34m=\u001b[0m\u001b[0;32mTrue\u001b[0m\u001b[0;34m)\u001b[0m  \u001b[0;31m#original semantic syntactic dataset.\u001b[0m\u001b[0;34m\u001b[0m\u001b[0;34m\u001b[0m\u001b[0m\n\u001b[0m",
      "\u001b[0;31mAttributeError\u001b[0m: 'Word2VecKeyedVectors' object has no attribute 'evaluate_word_analogies'"
     ]
    }
   ],
   "source": [
    "out = w2v.wv.evaluate_word_analogies(\"data/questions-words.txt\",case_insensitive=True)  #original semantic syntactic dataset."
   ]
  },
  {
   "cell_type": "markdown",
   "metadata": {},
   "source": [
    "When training the w2v models on the review dataset, since it hasn't been learnt with a lot of data, it does not perform very well. \n"
   ]
  },
  {
   "cell_type": "markdown",
   "metadata": {},
   "source": [
    "## STEP 3:  sentiment classification\n",
    "\n",
    "In the previous practical session, we used a bag of word approach to transform text into vectors.\n",
    "Here, we propose to try to use word vectors (previously learnt or loaded).\n",
    "\n",
    "\n",
    "### <font color='green'> Since we have only word vectors and that sentences are made of multiple words, we need to aggregate them. </font>\n",
    "\n",
    "\n",
    "### (1) Vectorize reviews using word vectors:\n",
    "\n",
    "Word aggregation can be done in different ways:\n",
    "\n",
    "- Sum\n",
    "- Average\n",
    "- Min/feature\n",
    "- Max/feature\n",
    "\n",
    "#### a few pointers:\n",
    "\n",
    "- `w2v.wv.vocab` is a `set()` of the vocabulary (all existing words in your model)\n",
    "- `np.minimum(a,b) and np.maximum(a,b)` respectively return element-wise min/max "
   ]
  },
  {
   "cell_type": "code",
   "execution_count": 25,
   "metadata": {},
   "outputs": [
    {
     "name": "stdout",
     "output_type": "stream",
     "text": [
      "[-37.71378     24.333488     1.6598583  -10.220578    18.240505\n",
      " -15.804233     1.2339287   -1.4720343   -4.8420196   -0.43907475\n",
      "  19.982637     4.265581    11.705099    -9.296954    -0.73340267\n",
      "  13.870491    14.8589945   -5.006123     3.3399227   22.8701\n",
      "  27.991766   -25.142494     4.2121315   14.577418   -12.8555765\n",
      "   7.963733   -24.56315     28.534693     1.9523832  -15.280476\n",
      "  -7.911737    -0.6272571   -2.6366193    0.75962913  -1.5832696\n",
      "   4.734096    11.603198   -39.25363      2.6582382   10.530556\n",
      " -18.549051    19.82562      3.1365051   18.462889    16.724194\n",
      " -32.188755    10.507522   -13.188044    -5.3750105   -3.6017435\n",
      "  -2.4678547    1.0381603    7.40374    -10.346022   -29.409735\n",
      "  20.568565    13.945981   -18.047895     5.9508843   -0.52349937\n",
      "  18.530285    -2.8346026  -19.846073   -17.214226   -21.067265\n",
      "   9.249025    32.162525    -0.10045007  18.814463    28.051416\n",
      "   2.4045773   -5.3584075  -18.295898   -28.165567   -11.051328\n",
      "   1.2596935  -17.556528    -8.771114   -21.74844      8.277676\n",
      "  10.041166   -10.18305    -13.972969     9.593344   -16.104605\n",
      " -12.572627    -4.169914     7.736243     6.7099004   -9.402993\n",
      " -15.02145    -11.366583    -1.7914579  -15.725097   -14.962256\n",
      "  26.1166      -4.5931945   -6.726133   -14.214892    14.96849   ]\n"
     ]
    }
   ],
   "source": [
    "import numpy as np\n",
    "# We first need to vectorize text:\n",
    "# First we propose to a sum of them\n",
    "\n",
    "vocab = w2v.wv.vocab\n",
    "def vectorize(text,mean=False):\n",
    "    \"\"\"\n",
    "    This function should vectorize one review\n",
    "\n",
    "    input: str\n",
    "    output: np.array(float)\n",
    "    \"\"\"    \n",
    "    vec = 0 # pfffff\n",
    "    \n",
    "    for word in text.split():\n",
    "        if word in vocab:\n",
    "            vec += w2v.wv[word]\n",
    "         \n",
    "        \n",
    "        \n",
    "    return np.array(vec)\n",
    "    \n",
    "\n",
    "classes = [pol for text,pol in train]\n",
    "X = [vectorize(text) for text,pol in train]\n",
    "X_test = [vectorize(text) for text,pol in test]\n",
    "true = [pol for text,pol in test]\n",
    "\n",
    "#let's see what a review vector looks like.\n",
    "print(X[0])"
   ]
  },
  {
   "cell_type": "markdown",
   "metadata": {},
   "source": [
    "### (2) Train a classifier \n",
    "as in the previous practical session, train a logistic regression to do sentiment classification with word vectors\n",
    "\n"
   ]
  },
  {
   "cell_type": "code",
   "execution_count": 32,
   "metadata": {},
   "outputs": [
    {
     "data": {
      "text/plain": [
       "0.82464"
      ]
     },
     "execution_count": 32,
     "metadata": {},
     "output_type": "execute_result"
    }
   ],
   "source": [
    "\n",
    "\n",
    "from sklearn.linear_model import LogisticRegression\n",
    "from sklearn.metrics import accuracy_score\n",
    "\n",
    "\n",
    "# Scikit Logistic Regression\n",
    "clf = LogisticRegression().fit(X, classes)\n",
    "Ypred = clf.predict(X_test)\n",
    "accuracy_score(Ypred,true)"
   ]
  },
  {
   "cell_type": "markdown",
   "metadata": {},
   "source": [
    "performance should be worst than with bag of word (~80%). Sum/Mean aggregation does not work well on long reviews (especially with many frequent words). This adds a lot of noise.\n",
    "\n",
    "## **Todo** :  Try answering the following questions:\n",
    "\n",
    "- Which word2vec model works best: skip-gram or cbow\n",
    "- Do pretrained vectors work best than those learnt on the train dataset ?\n"
   ]
  },
  {
   "cell_type": "markdown",
   "metadata": {},
   "source": [
    "Il y a pas une grosse différence entre les deux modèles. Cbow est plus rapide que skip gram mais les résultats sont globalement les mêmes. Cbow prend le contexte sachant les mots et SG l'inverse."
   ]
  },
  {
   "cell_type": "markdown",
   "metadata": {},
   "source": [
    "\n",
    "**(Bonus)** To have a better accuracy, we could try two things:\n",
    "- Better aggregation methods (weight by tf-idf ?)\n",
    "- Another word vectorizing method such as [fasttext](https://radimrehurek.com/gensim/models/fasttext.html)\n",
    "- A document vectorizing method such as [Doc2Vec](https://radimrehurek.com/gensim/models/doc2vec.html)"
   ]
  },
  {
   "cell_type": "markdown",
   "metadata": {},
   "source": [
    "## --- Generate text with a recurrent neural network (Pytorch) ---\n",
    "### (Mostly Read & Run)\n",
    "\n",
    "The goal is to replicate the (famous) experiment from [Karpathy's blog](http://karpathy.github.io/2015/05/21/rnn-effectiveness/)\n",
    "\n",
    "To learn to generate text, we train a recurrent neural network to do the following task:\n",
    "\n",
    "Given a \"chunk\" of text: `this is random text`\n",
    "\n",
    "the goal of the network is to predict each character in **`his is random text` ** sequentially given the following sequential input **`this is random tex`**:\n",
    "\n"
   ]
  },
  {
   "cell_type": "raw",
   "metadata": {},
   "source": [
    "Input ->  Output\n",
    "--------------\n",
    "T    ->    H\n",
    "H    ->    I\n",
    "I    ->    S\n",
    "S    ->    \" \"\n",
    "\" \"  ->    I\n",
    "I    ->    S\n",
    "S    ->    \" \"\n",
    "[...]\n"
   ]
  },
  {
   "cell_type": "markdown",
   "metadata": {},
   "source": [
    "\n",
    "## Load text (dataset/input.txt)\n",
    "\n",
    "Before building training batch, we load the full text in RAM"
   ]
  },
  {
   "cell_type": "code",
   "execution_count": 33,
   "metadata": {},
   "outputs": [
    {
     "name": "stdout",
     "output_type": "stream",
     "text": [
      "file_len = 1115394\n"
     ]
    }
   ],
   "source": [
    "import unidecode\n",
    "import string\n",
    "import random\n",
    "import re\n",
    "import torch\n",
    "import torch.nn as nn\n",
    "\n",
    "all_characters = string.printable\n",
    "n_characters = len(all_characters)\n",
    "\n",
    "file = unidecode.unidecode(open('data/input.txt').read()) #clean text => only ascii\n",
    "file_len = len(file)\n",
    "print('file_len =', file_len)\n"
   ]
  },
  {
   "cell_type": "markdown",
   "metadata": {},
   "source": [
    "## 2: Helper functions:\n",
    "\n",
    "We have a text and we want to feed batch of chunks to a neural network:\n",
    "\n",
    "one chunk  A,B,C,D,E\n",
    "[input] A,B,C,D -> B,C,D,E [output]\n",
    "\n",
    "Note: we will use an embedding layer instead of a one-hot encoding scheme.\n",
    "\n",
    "for this, we have 3 functions:\n",
    "\n",
    "- One to get a random str chunk of size `chunk_len` : `random_chunk` \n",
    "- One to turn a chunk into a tensor of size `(1,chunk_len)` coding for each characters : `char_tensor`\n",
    "- One to return random input and output chunks of size `(batch_size,chunk_len)` : `random_training_set`\n",
    "\n",
    "\n"
   ]
  },
  {
   "cell_type": "code",
   "execution_count": 34,
   "metadata": {},
   "outputs": [
    {
     "name": "stdout",
     "output_type": "stream",
     "text": [
      "(tensor([[94, 17, 14, 94, 13, 24, 29, 17, 94, 28],\n",
      "        [75, 94, 44, 94, 21, 24, 31, 14, 94, 29],\n",
      "        [21, 10, 13, 34, 94, 21, 18, 31, 18, 23],\n",
      "        [22, 18, 23, 18, 28, 29, 14, 27, 96, 56]]), tensor([[17, 14, 94, 13, 24, 29, 17, 94, 28, 14],\n",
      "        [94, 44, 94, 21, 24, 31, 14, 94, 29, 17],\n",
      "        [10, 13, 34, 94, 21, 18, 31, 18, 23, 16],\n",
      "        [18, 23, 18, 28, 29, 14, 27, 96, 56, 23]]))\n"
     ]
    }
   ],
   "source": [
    "import time, math\n",
    "\n",
    "\n",
    "#Get a piece of text\n",
    "def random_chunk(chunk_len):\n",
    "    start_index = random.randint(0, file_len - chunk_len)\n",
    "    end_index = start_index + chunk_len + 1\n",
    "    return file[start_index:end_index]\n",
    "\n",
    "\n",
    "# Turn string into list of longs\n",
    "def char_tensor(string):\n",
    "    tensor = torch.zeros(1,len(string)).long()\n",
    "    for c in range(len(string)):\n",
    "        tensor[0,c] = all_characters.index(string[c])\n",
    "    return tensor\n",
    "\n",
    "\n",
    "#Turn a piece of text in train/test\n",
    "def random_training_set(chunk_len=200, batch_size=8):\n",
    "    chunks = [random_chunk(chunk_len) for _ in range(batch_size)]\n",
    "    inp = torch.cat([char_tensor(chunk[:-1]) for chunk in chunks],dim=0)\n",
    "    target = torch.cat([char_tensor(chunk[1:]) for chunk in chunks],dim=0)\n",
    "    \n",
    "    return inp, target\n",
    "\n",
    "print(random_training_set(10,4))  ## should return 8 chunks of 10 letters. "
   ]
  },
  {
   "cell_type": "markdown",
   "metadata": {},
   "source": [
    "## The actual RNN model (only thing to complete):\n",
    "\n",
    "It should be composed of three distinct modules:\n",
    "\n",
    "- an [embedding layer](https://pytorch.org/docs/stable/nn.html#embedding) (n_characters, hidden_size)\n",
    "\n",
    "```\n",
    "nn.Embedding(len_dic,size_vec)\n",
    "```\n",
    "- a [recurrent](https://pytorch.org/docs/stable/nn.html#recurrent-layers) layer (hidden_size, hidden_size)\n",
    "```\n",
    "nn.RNN(in_size,out_size) or nn.GRU() or nn.LSTM() => rnn_cell parameter\n",
    "```\n",
    "- a [prediction](https://pytorch.org/docs/stable/nn.html#linear) layer (hidden_size, output_size)\n",
    "\n",
    "```\n",
    "nn.Linear(in_size,out_size)\n",
    "```\n",
    "=> Complete the `init` function code"
   ]
  },
  {
   "cell_type": "code",
   "execution_count": 35,
   "metadata": {},
   "outputs": [],
   "source": [
    "import torch.nn.functional as f\n",
    "\n",
    "class RNN(nn.Module):\n",
    "    \n",
    "    def __init__(self, n_char, hidden_size, output_size, n_layers=1,rnn_cell=nn.RNN):\n",
    "        \"\"\"\n",
    "        Create the network\n",
    "        \"\"\"\n",
    "        super(RNN, self).__init__()\n",
    "        \n",
    "        self.n_char = n_char\n",
    "        self.hidden_size = hidden_size\n",
    "        self.output_size = output_size\n",
    "        self.n_layers = n_layers\n",
    "        \n",
    "        #  (batch,chunk_len) -> (batch, chunk_len, hidden_size)  \n",
    "        self.embed = nn.Embedding(n_char,hidden_size)\n",
    "        \n",
    "        # (batch, chunk_len, hidden_size)  -> (batch, chunk_len, hidden_size)  \n",
    "        self.rnn = nn.RNN(hidden_size,hidden_size)\n",
    "        \n",
    "        #(batch, chunk_len, hidden_size) -> (batch, chunk_len, output_size)  \n",
    "        self.predict = nn.Linear(hidden_size,output_size)\n",
    "    \n",
    "    def forward(self, input):\n",
    "        \"\"\"\n",
    "        batched forward: input is (batch > 1,chunk_len)\n",
    "        \"\"\"\n",
    "        input = self.embed(input)\n",
    "        output,_  = self.rnn(input)\n",
    "        output = self.predict(f.tanh(output))\n",
    "        return output\n",
    "    \n",
    "    def forward_seq(self, input,hidden=None):\n",
    "        \"\"\"\n",
    "        not batched forward: input is  (1,chunk_len)\n",
    "        \"\"\"\n",
    "        input = self.embed(input)\n",
    "        output,hidden  = self.rnn(input.unsqueeze(0),hidden)\n",
    "        output = self.predict(f.tanh(output))\n",
    "        return output,hidden\n"
   ]
  },
  {
   "cell_type": "markdown",
   "metadata": {
    "collapsed": true
   },
   "source": [
    "## Text generation function\n",
    "\n",
    "Sample text from the model"
   ]
  },
  {
   "cell_type": "code",
   "execution_count": 36,
   "metadata": {},
   "outputs": [],
   "source": [
    "def generate(model,prime_str='A', predict_len=100, temperature=0.8):\n",
    "    prime_input = char_tensor(prime_str).squeeze(0)\n",
    "    hidden = None\n",
    "    predicted = prime_str+\"\"\n",
    "    # Use priming string to \"build up\" hidden state\n",
    "\n",
    "    for p in range(len(prime_str)-1):\n",
    "        _,hidden = model.forward_seq(prime_input[p].unsqueeze(0),hidden)\n",
    "            \n",
    "    #print(hidden.size())\n",
    "    for p in range(predict_len):\n",
    "        output, hidden = model.forward_seq(prime_input[-1].unsqueeze(0), hidden)\n",
    "                # Sample from the network as a multinomial distribution\n",
    "        output_dist = output.data.view(-1).div(temperature).exp()\n",
    "        #print(output_dist)\n",
    "        top_i = torch.multinomial(output_dist, 1)[0]\n",
    "        #print(top_i)\n",
    "        # Add predicted character to string and use as next input\n",
    "        predicted_char = all_characters[top_i]\n",
    "        predicted += predicted_char\n",
    "        prime_input = torch.cat([prime_input,char_tensor(predicted_char).squeeze(0)])\n",
    "\n",
    "    return predicted\n",
    "\n"
   ]
  },
  {
   "cell_type": "markdown",
   "metadata": {
    "collapsed": true
   },
   "source": [
    "## Training loop for net"
   ]
  },
  {
   "cell_type": "code",
   "execution_count": 39,
   "metadata": {},
   "outputs": [
    {
     "ename": "KeyboardInterrupt",
     "evalue": "",
     "output_type": "error",
     "traceback": [
      "\u001b[0;31m---------------------------------------------------------------------------\u001b[0m",
      "\u001b[0;31mKeyboardInterrupt\u001b[0m                         Traceback (most recent call last)",
      "\u001b[0;32m<ipython-input-39-0e2d8e088fe8>\u001b[0m in \u001b[0;36m<module>\u001b[0;34m\u001b[0m\n\u001b[1;32m     48\u001b[0m \u001b[0;34m\u001b[0m\u001b[0m\n\u001b[1;32m     49\u001b[0m \u001b[0;32mfor\u001b[0m \u001b[0mepoch\u001b[0m \u001b[0;32min\u001b[0m \u001b[0mrange\u001b[0m\u001b[0;34m(\u001b[0m\u001b[0;36m1\u001b[0m\u001b[0;34m,\u001b[0m \u001b[0mn_epochs\u001b[0m \u001b[0;34m+\u001b[0m \u001b[0;36m1\u001b[0m\u001b[0;34m)\u001b[0m\u001b[0;34m:\u001b[0m\u001b[0;34m\u001b[0m\u001b[0;34m\u001b[0m\u001b[0m\n\u001b[0;32m---> 50\u001b[0;31m     \u001b[0mloss\u001b[0m \u001b[0;34m=\u001b[0m \u001b[0mtrain\u001b[0m\u001b[0;34m(\u001b[0m\u001b[0;34m*\u001b[0m\u001b[0mrandom_training_set\u001b[0m\u001b[0;34m(\u001b[0m\u001b[0mchunk_len\u001b[0m\u001b[0;34m,\u001b[0m\u001b[0mbatch_size\u001b[0m\u001b[0;34m)\u001b[0m\u001b[0;34m)\u001b[0m  \u001b[0;31m#train on one chunk\u001b[0m\u001b[0;34m\u001b[0m\u001b[0;34m\u001b[0m\u001b[0m\n\u001b[0m\u001b[1;32m     51\u001b[0m     \u001b[0mloss_avg\u001b[0m \u001b[0;34m+=\u001b[0m \u001b[0mloss\u001b[0m\u001b[0;34m\u001b[0m\u001b[0;34m\u001b[0m\u001b[0m\n\u001b[1;32m     52\u001b[0m \u001b[0;34m\u001b[0m\u001b[0m\n",
      "\u001b[0;32m<ipython-input-34-9691abf743b2>\u001b[0m in \u001b[0;36mrandom_training_set\u001b[0;34m(chunk_len, batch_size)\u001b[0m\n\u001b[1;32m     21\u001b[0m     \u001b[0mchunks\u001b[0m \u001b[0;34m=\u001b[0m \u001b[0;34m[\u001b[0m\u001b[0mrandom_chunk\u001b[0m\u001b[0;34m(\u001b[0m\u001b[0mchunk_len\u001b[0m\u001b[0;34m)\u001b[0m \u001b[0;32mfor\u001b[0m \u001b[0m_\u001b[0m \u001b[0;32min\u001b[0m \u001b[0mrange\u001b[0m\u001b[0;34m(\u001b[0m\u001b[0mbatch_size\u001b[0m\u001b[0;34m)\u001b[0m\u001b[0;34m]\u001b[0m\u001b[0;34m\u001b[0m\u001b[0;34m\u001b[0m\u001b[0m\n\u001b[1;32m     22\u001b[0m     \u001b[0minp\u001b[0m \u001b[0;34m=\u001b[0m \u001b[0mtorch\u001b[0m\u001b[0;34m.\u001b[0m\u001b[0mcat\u001b[0m\u001b[0;34m(\u001b[0m\u001b[0;34m[\u001b[0m\u001b[0mchar_tensor\u001b[0m\u001b[0;34m(\u001b[0m\u001b[0mchunk\u001b[0m\u001b[0;34m[\u001b[0m\u001b[0;34m:\u001b[0m\u001b[0;34m-\u001b[0m\u001b[0;36m1\u001b[0m\u001b[0;34m]\u001b[0m\u001b[0;34m)\u001b[0m \u001b[0;32mfor\u001b[0m \u001b[0mchunk\u001b[0m \u001b[0;32min\u001b[0m \u001b[0mchunks\u001b[0m\u001b[0;34m]\u001b[0m\u001b[0;34m,\u001b[0m\u001b[0mdim\u001b[0m\u001b[0;34m=\u001b[0m\u001b[0;36m0\u001b[0m\u001b[0;34m)\u001b[0m\u001b[0;34m\u001b[0m\u001b[0;34m\u001b[0m\u001b[0m\n\u001b[0;32m---> 23\u001b[0;31m     \u001b[0mtarget\u001b[0m \u001b[0;34m=\u001b[0m \u001b[0mtorch\u001b[0m\u001b[0;34m.\u001b[0m\u001b[0mcat\u001b[0m\u001b[0;34m(\u001b[0m\u001b[0;34m[\u001b[0m\u001b[0mchar_tensor\u001b[0m\u001b[0;34m(\u001b[0m\u001b[0mchunk\u001b[0m\u001b[0;34m[\u001b[0m\u001b[0;36m1\u001b[0m\u001b[0;34m:\u001b[0m\u001b[0;34m]\u001b[0m\u001b[0;34m)\u001b[0m \u001b[0;32mfor\u001b[0m \u001b[0mchunk\u001b[0m \u001b[0;32min\u001b[0m \u001b[0mchunks\u001b[0m\u001b[0;34m]\u001b[0m\u001b[0;34m,\u001b[0m\u001b[0mdim\u001b[0m\u001b[0;34m=\u001b[0m\u001b[0;36m0\u001b[0m\u001b[0;34m)\u001b[0m\u001b[0;34m\u001b[0m\u001b[0;34m\u001b[0m\u001b[0m\n\u001b[0m\u001b[1;32m     24\u001b[0m \u001b[0;34m\u001b[0m\u001b[0m\n\u001b[1;32m     25\u001b[0m     \u001b[0;32mreturn\u001b[0m \u001b[0minp\u001b[0m\u001b[0;34m,\u001b[0m \u001b[0mtarget\u001b[0m\u001b[0;34m\u001b[0m\u001b[0;34m\u001b[0m\u001b[0m\n",
      "\u001b[0;32m<ipython-input-34-9691abf743b2>\u001b[0m in \u001b[0;36m<listcomp>\u001b[0;34m(.0)\u001b[0m\n\u001b[1;32m     21\u001b[0m     \u001b[0mchunks\u001b[0m \u001b[0;34m=\u001b[0m \u001b[0;34m[\u001b[0m\u001b[0mrandom_chunk\u001b[0m\u001b[0;34m(\u001b[0m\u001b[0mchunk_len\u001b[0m\u001b[0;34m)\u001b[0m \u001b[0;32mfor\u001b[0m \u001b[0m_\u001b[0m \u001b[0;32min\u001b[0m \u001b[0mrange\u001b[0m\u001b[0;34m(\u001b[0m\u001b[0mbatch_size\u001b[0m\u001b[0;34m)\u001b[0m\u001b[0;34m]\u001b[0m\u001b[0;34m\u001b[0m\u001b[0;34m\u001b[0m\u001b[0m\n\u001b[1;32m     22\u001b[0m     \u001b[0minp\u001b[0m \u001b[0;34m=\u001b[0m \u001b[0mtorch\u001b[0m\u001b[0;34m.\u001b[0m\u001b[0mcat\u001b[0m\u001b[0;34m(\u001b[0m\u001b[0;34m[\u001b[0m\u001b[0mchar_tensor\u001b[0m\u001b[0;34m(\u001b[0m\u001b[0mchunk\u001b[0m\u001b[0;34m[\u001b[0m\u001b[0;34m:\u001b[0m\u001b[0;34m-\u001b[0m\u001b[0;36m1\u001b[0m\u001b[0;34m]\u001b[0m\u001b[0;34m)\u001b[0m \u001b[0;32mfor\u001b[0m \u001b[0mchunk\u001b[0m \u001b[0;32min\u001b[0m \u001b[0mchunks\u001b[0m\u001b[0;34m]\u001b[0m\u001b[0;34m,\u001b[0m\u001b[0mdim\u001b[0m\u001b[0;34m=\u001b[0m\u001b[0;36m0\u001b[0m\u001b[0;34m)\u001b[0m\u001b[0;34m\u001b[0m\u001b[0;34m\u001b[0m\u001b[0m\n\u001b[0;32m---> 23\u001b[0;31m     \u001b[0mtarget\u001b[0m \u001b[0;34m=\u001b[0m \u001b[0mtorch\u001b[0m\u001b[0;34m.\u001b[0m\u001b[0mcat\u001b[0m\u001b[0;34m(\u001b[0m\u001b[0;34m[\u001b[0m\u001b[0mchar_tensor\u001b[0m\u001b[0;34m(\u001b[0m\u001b[0mchunk\u001b[0m\u001b[0;34m[\u001b[0m\u001b[0;36m1\u001b[0m\u001b[0;34m:\u001b[0m\u001b[0;34m]\u001b[0m\u001b[0;34m)\u001b[0m \u001b[0;32mfor\u001b[0m \u001b[0mchunk\u001b[0m \u001b[0;32min\u001b[0m \u001b[0mchunks\u001b[0m\u001b[0;34m]\u001b[0m\u001b[0;34m,\u001b[0m\u001b[0mdim\u001b[0m\u001b[0;34m=\u001b[0m\u001b[0;36m0\u001b[0m\u001b[0;34m)\u001b[0m\u001b[0;34m\u001b[0m\u001b[0;34m\u001b[0m\u001b[0m\n\u001b[0m\u001b[1;32m     24\u001b[0m \u001b[0;34m\u001b[0m\u001b[0m\n\u001b[1;32m     25\u001b[0m     \u001b[0;32mreturn\u001b[0m \u001b[0minp\u001b[0m\u001b[0;34m,\u001b[0m \u001b[0mtarget\u001b[0m\u001b[0;34m\u001b[0m\u001b[0;34m\u001b[0m\u001b[0m\n",
      "\u001b[0;32m<ipython-input-34-9691abf743b2>\u001b[0m in \u001b[0;36mchar_tensor\u001b[0;34m(string)\u001b[0m\n\u001b[1;32m     13\u001b[0m     \u001b[0mtensor\u001b[0m \u001b[0;34m=\u001b[0m \u001b[0mtorch\u001b[0m\u001b[0;34m.\u001b[0m\u001b[0mzeros\u001b[0m\u001b[0;34m(\u001b[0m\u001b[0;36m1\u001b[0m\u001b[0;34m,\u001b[0m\u001b[0mlen\u001b[0m\u001b[0;34m(\u001b[0m\u001b[0mstring\u001b[0m\u001b[0;34m)\u001b[0m\u001b[0;34m)\u001b[0m\u001b[0;34m.\u001b[0m\u001b[0mlong\u001b[0m\u001b[0;34m(\u001b[0m\u001b[0;34m)\u001b[0m\u001b[0;34m\u001b[0m\u001b[0;34m\u001b[0m\u001b[0m\n\u001b[1;32m     14\u001b[0m     \u001b[0;32mfor\u001b[0m \u001b[0mc\u001b[0m \u001b[0;32min\u001b[0m \u001b[0mrange\u001b[0m\u001b[0;34m(\u001b[0m\u001b[0mlen\u001b[0m\u001b[0;34m(\u001b[0m\u001b[0mstring\u001b[0m\u001b[0;34m)\u001b[0m\u001b[0;34m)\u001b[0m\u001b[0;34m:\u001b[0m\u001b[0;34m\u001b[0m\u001b[0;34m\u001b[0m\u001b[0m\n\u001b[0;32m---> 15\u001b[0;31m         \u001b[0mtensor\u001b[0m\u001b[0;34m[\u001b[0m\u001b[0;36m0\u001b[0m\u001b[0;34m,\u001b[0m\u001b[0mc\u001b[0m\u001b[0;34m]\u001b[0m \u001b[0;34m=\u001b[0m \u001b[0mall_characters\u001b[0m\u001b[0;34m.\u001b[0m\u001b[0mindex\u001b[0m\u001b[0;34m(\u001b[0m\u001b[0mstring\u001b[0m\u001b[0;34m[\u001b[0m\u001b[0mc\u001b[0m\u001b[0;34m]\u001b[0m\u001b[0;34m)\u001b[0m\u001b[0;34m\u001b[0m\u001b[0;34m\u001b[0m\u001b[0m\n\u001b[0m\u001b[1;32m     16\u001b[0m     \u001b[0;32mreturn\u001b[0m \u001b[0mtensor\u001b[0m\u001b[0;34m\u001b[0m\u001b[0;34m\u001b[0m\u001b[0m\n\u001b[1;32m     17\u001b[0m \u001b[0;34m\u001b[0m\u001b[0m\n",
      "\u001b[0;31mKeyboardInterrupt\u001b[0m: "
     ]
    }
   ],
   "source": [
    "def time_since(since):\n",
    "    s = time.time() - since\n",
    "    m = math.floor(s / 60)\n",
    "    s -= m * 60\n",
    "    return '%dm %ds' % (m, s)\n",
    "\n",
    "###Parameters\n",
    "n_epochs = 20000\n",
    "print_every = 100\n",
    "plot_every = 10\n",
    "hidden_size = 100\n",
    "n_layers = 5\n",
    "lr = 0.005\n",
    "batch_size = 16\n",
    "chunk_len = 80\n",
    "\n",
    "####\n",
    "\n",
    "model = RNN(n_characters, hidden_size, n_characters, n_layers) #create model\n",
    "model_optimizer = torch.optim.Adam(model.parameters(), lr=lr) #create Adam optimizer\n",
    "criterion = nn.CrossEntropyLoss() #chose criterion\n",
    "\n",
    "start = time.time()\n",
    "all_losses = []\n",
    "loss_avg = 0\n",
    "\n",
    "\n",
    "def train(inp, target):\n",
    "    \"\"\"\n",
    "    Train sequence for one chunk:\n",
    "    \"\"\"\n",
    "    #reset gradients\n",
    "    model_optimizer.zero_grad() \n",
    "    \n",
    "    # predict output\n",
    "    output = model(inp)\n",
    "    \n",
    "    #compute loss\n",
    "    loss =  criterion(output.view(batch_size*chunk_len,-1), target.view(-1)) \n",
    "\n",
    "    #compute gradients and backpropagate\n",
    "    loss.backward() \n",
    "    model_optimizer.step() \n",
    "\n",
    "    return loss.data.item() \n",
    "\n",
    "\n",
    "\n",
    "for epoch in range(1, n_epochs + 1):\n",
    "    loss = train(*random_training_set(chunk_len,batch_size))  #train on one chunk \n",
    "    loss_avg += loss\n",
    "\n",
    "    if epoch % print_every == 0:\n",
    "        print('[%s (%d %d%%) %.4f]' % (time_since(start), epoch, epoch / n_epochs * 100, loss))\n",
    "        print(generate(model,'Wh', 100), '\\n')\n",
    "       \n",
    "\n",
    "\n",
    "    if epoch % plot_every == 0:\n",
    "        all_losses.append(loss_avg / plot_every)\n",
    "        loss_avg = 0\n"
   ]
  },
  {
   "cell_type": "markdown",
   "metadata": {},
   "source": [
    "## Visualize loss "
   ]
  },
  {
   "cell_type": "code",
   "execution_count": null,
   "metadata": {},
   "outputs": [],
   "source": [
    "import matplotlib.pyplot as plt\n",
    "import matplotlib.ticker as ticker\n",
    "%matplotlib inline\n",
    "\n",
    "plt.figure()\n",
    "plt.plot(all_losses)"
   ]
  },
  {
   "cell_type": "markdown",
   "metadata": {},
   "source": [
    "## Try different temperatures\n",
    "\n",
    "Changing the distribution sharpness has an impact on character sampling:\n",
    "\n",
    "more or less probable things are sampled"
   ]
  },
  {
   "cell_type": "code",
   "execution_count": 74,
   "metadata": {},
   "outputs": [
    {
     "name": "stderr",
     "output_type": "stream",
     "text": [
      "/usr/local/lib/python3.5/dist-packages/torch/nn/functional.py:995: UserWarning: nn.functional.tanh is deprecated. Use torch.tanh instead.\n",
      "  warnings.warn(\"nn.functional.tanh is deprecated. Use torch.tanh instead.\")\n"
     ]
    },
    {
     "name": "stdout",
     "output_type": "stream",
     "text": [
      "This tis s wnd oine wind t'd me serkerpot? dis thoud?\n",
      "Shexist t it head tnomoookeruronds kirerinorerd mmusthan ck neopauis, ben h s, thaghig ss the\n",
      "PO:\n",
      "St,\n",
      "Wat nyoutowe o perif-deimatoost r f t sthevea\n",
      "----\n",
      "Theivin hande he be meameded irof d toulled for ter th\n",
      "\n",
      "HARI ind sthan s, t t polead s ay ver, ttik hereis, t IO:\n",
      "\n",
      "ULAnd the meyod bes s ms keasthendy keng or ngres?\n",
      "S:\n",
      "\n",
      "\n",
      "LIn hek arir se pl meartt ho tr\n",
      "----\n",
      "The there ar h th te,\n",
      "\n",
      "Son my t re tou y cal m te tow al ber m\n",
      "Whand an the t ghend s y thald hof t the the hand the the thofour the e the he thar fon that ENo t rmay thind oure thime be t we mave athed\n",
      "----\n",
      "The me our t ar n the be the the the the s thand t bere t me t mere me me t the y bend al t t the t be the that thar t the s the t thes thand the thers s pand the t t the the mer mathe the thar t the t \n",
      "----\n",
      "The the t the the the the the t the the the t the the the t the the the the the the the the the the the the the the the the the the the the the the the the the the me the the the the the the the t the t\n"
     ]
    }
   ],
   "source": [
    "print(generate(model,'T', 200, temperature=1))\n",
    "print(\"----\")\n",
    "print(generate(model,'Th', 200, temperature=0.8))\n",
    "print(\"----\")\n",
    "\n",
    "print(generate(model,'Th', 200, temperature=0.5))\n",
    "print(\"----\")\n",
    "\n",
    "print(generate(model,'Th', 200, temperature=0.3))\n",
    "print(\"----\")\n",
    "\n",
    "print(generate(model,'Th', 200, temperature=0.1))"
   ]
  },
  {
   "cell_type": "markdown",
   "metadata": {},
   "source": [
    "### Improving this code:\n",
    "\n",
    "(a) Tinker with parameters:\n",
    "\n",
    "- Is it really necessary to have 100 dims character embeddings\n",
    "- Chunk length can be gradually increased\n",
    "- Try changing RNN cell type (GRUs - LSTMs)\n",
    "\n",
    "(b) Add GPU support to go faster\n"
   ]
  },
  {
   "cell_type": "markdown",
   "metadata": {},
   "source": [
    "## ------ End of practical\n",
    "\n",
    "#### Legacy loading code"
   ]
  },
  {
   "cell_type": "code",
   "execution_count": 77,
   "metadata": {},
   "outputs": [
    {
     "name": "stdout",
     "output_type": "stream",
     "text": [
      "0\n"
     ]
    },
    {
     "ename": "IndexError",
     "evalue": "list index out of range",
     "output_type": "error",
     "traceback": [
      "\u001b[0;31m---------------------------------------------------------------------------\u001b[0m",
      "\u001b[0;31mIndexError\u001b[0m                                Traceback (most recent call last)",
      "\u001b[0;32m<ipython-input-77-eee45b9193a7>\u001b[0m in \u001b[0;36m<module>\u001b[0;34m()\u001b[0m\n\u001b[1;32m     32\u001b[0m \u001b[0;34m\u001b[0m\u001b[0m\n\u001b[1;32m     33\u001b[0m \u001b[0mprint\u001b[0m\u001b[0;34m(\u001b[0m\u001b[0mlen\u001b[0m\u001b[0;34m(\u001b[0m\u001b[0mtrain_files\u001b[0m\u001b[0;34m)\u001b[0m\u001b[0;34m)\u001b[0m\u001b[0;34m\u001b[0m\u001b[0m\n\u001b[0;32m---> 34\u001b[0;31m \u001b[0mprint\u001b[0m\u001b[0;34m(\u001b[0m\u001b[0mopen_one\u001b[0m\u001b[0;34m(\u001b[0m\u001b[0mtrain_files\u001b[0m\u001b[0;34m[\u001b[0m\u001b[0;36m0\u001b[0m\u001b[0;34m]\u001b[0m\u001b[0;34m)\u001b[0m\u001b[0;34m)\u001b[0m\u001b[0;34m\u001b[0m\u001b[0m\n\u001b[0m\u001b[1;32m     35\u001b[0m \u001b[0;34m\u001b[0m\u001b[0m\n\u001b[1;32m     36\u001b[0m \u001b[0mtrain\u001b[0m \u001b[0;34m=\u001b[0m \u001b[0;34m[\u001b[0m\u001b[0mopen_one\u001b[0m\u001b[0;34m(\u001b[0m\u001b[0mx\u001b[0m\u001b[0;34m)\u001b[0m \u001b[0;32mfor\u001b[0m \u001b[0mx\u001b[0m \u001b[0;32min\u001b[0m \u001b[0mtrain_files\u001b[0m\u001b[0;34m]\u001b[0m \u001b[0;31m#contains (text,pol) couples\u001b[0m\u001b[0;34m\u001b[0m\u001b[0m\n",
      "\u001b[0;31mIndexError\u001b[0m: list index out of range"
     ]
    }
   ],
   "source": [
    "import glob\n",
    "from os.path import split as pathsplit\n",
    "\n",
    "dir_train = \"dataset/aclImdb/train/\"\n",
    "dir_test = \"dataset/aclImdb/test/\"\n",
    "\n",
    "train_files = glob.glob(dir_train+'pos/*.txt') + glob.glob(dir_train+'neg/*.txt')\n",
    "test_files = glob.glob(dir_test+'pos/*.txt') + glob.glob(dir_test+'neg/*.txt')\n",
    "\n",
    "\n",
    "def get_polarity(f):\n",
    "    \"\"\"\n",
    "    Extracts polarity from filename:\n",
    "    0 is negative (< 5)\n",
    "    1 is positive (> 5)\n",
    "    \"\"\"\n",
    "    _,name = pathsplit(f)\n",
    "    if int(name.split('_')[1].split('.')[0]) < 5:\n",
    "        return 0\n",
    "    else:\n",
    "        return 1\n",
    "\n",
    "\n",
    "def open_one(f):\n",
    "    \n",
    "    polarity = get_polarity(f)\n",
    "    \n",
    "    with open(f,\"r\") as review:\n",
    "        text = \" \".join(review.readlines()).strip()\n",
    "    \n",
    "    return (text,polarity)\n",
    "\n",
    "print(open_one(train_files[0]))\n",
    "\n",
    "train = [open_one(x) for x in train_files] #contains (text,pol) couples\n",
    "test = [open_one(x) for x in test_files]   #contains (text,pol) couples\n"
   ]
  }
 ],
 "metadata": {
  "kernelspec": {
   "display_name": "Python 3",
   "language": "python",
   "name": "python3"
  },
  "language_info": {
   "codemirror_mode": {
    "name": "ipython",
    "version": 3
   },
   "file_extension": ".py",
   "mimetype": "text/x-python",
   "name": "python",
   "nbconvert_exporter": "python",
   "pygments_lexer": "ipython3",
   "version": "3.6.8"
  }
 },
 "nbformat": 4,
 "nbformat_minor": 2
}
